{
 "cells": [
  {
   "cell_type": "markdown",
   "metadata": {},
   "source": [
    "# [Case Study Project](https://cloud-school.thinkific.com/courses/take/analytics-with-python-module/texts/48739139-case-study)\n",
    "## Analyze the Sakila database\n",
    "## Group 3\n",
    "## Week 6\n",
    "### Gabriel Osasumwen Okundaye, gabriel.okundaye@azubiafrica.org 🌍\n"
   ]
  },
  {
   "cell_type": "markdown",
   "metadata": {},
   "source": [
    "### Requirements\n",
    "You are to connect to a remote database using python code. Properly set up your connection to the database using the database credentials provided below. It is a must to hide sensitive information like password, hostname, username, etc. using environment variables.\n",
    "Once your setup is done, query the database to answer the following analytical questions by writing an SQL query in your Jupyter notebook and supply the appropriate visualization.\n",
    "\n",
    "### Questions\n",
    "1. Determine how much we made in revenue from active and inactive members. Visualize the result as a bar chart.<br>\n",
    "2. We have 2 staff members, Mike and Jon. Determine the staff member that contributed the most to our revenue in the month of August in 2005. Visualize their percentage contribution as a pie chart.<br>\n",
    "3. Create a simple line chart showing the monthly rental count of the store. Do you notice any patterns or trends?<br>\n",
    "4. Create a basic bar chart to show the monthly revenue for the rental store.<br>\n"
   ]
  },
  {
   "cell_type": "code",
   "execution_count": null,
   "metadata": {},
   "outputs": [],
   "source": [
    "# Install needed packages\n",
    "%pip install sqlalchemy mysqlclient mysql-connector-python python-dotenv"
   ]
  },
  {
   "cell_type": "code",
   "execution_count": null,
   "metadata": {},
   "outputs": [],
   "source": [
    "from dotenv import load_dotenv\n",
    "import os\n",
    "import pandas as pd\n",
    "from sqlalchemy import create_engine\n",
    "\n",
    "load_dotenv()\n",
    "\n",
    "username   = os.getenv('USERNAME')\n",
    "host       = os.getenv('HOST')\n",
    "password   = os.getenv('PASSWORD')\n",
    "db_name    = os.getenv('DATABASE_NAME')\n",
    "\n",
    "# Create the DB engine connector\n",
    "connection = create_engine(f\"mysql+mysqlconnector://{username}:{password}@{host}/{db_name}\")\n",
    "\n",
    "print(connection)\n",
    "\n"
   ]
  },
  {
   "cell_type": "markdown",
   "metadata": {},
   "source": [
    "### Question 1: Determine how much we made in revenue from active and inactive members. Visualize the result as a bar chart."
   ]
  },
  {
   "cell_type": "code",
   "execution_count": 4,
   "metadata": {},
   "outputs": [
    {
     "data": {
      "text/html": [
       "<div>\n",
       "<style scoped>\n",
       "    .dataframe tbody tr th:only-of-type {\n",
       "        vertical-align: middle;\n",
       "    }\n",
       "\n",
       "    .dataframe tbody tr th {\n",
       "        vertical-align: top;\n",
       "    }\n",
       "\n",
       "    .dataframe thead th {\n",
       "        text-align: right;\n",
       "    }\n",
       "</style>\n",
       "<table border=\"1\" class=\"dataframe\">\n",
       "  <thead>\n",
       "    <tr style=\"text-align: right;\">\n",
       "      <th></th>\n",
       "      <th>member_id</th>\n",
       "      <th>active</th>\n",
       "      <th>amount</th>\n",
       "    </tr>\n",
       "  </thead>\n",
       "  <tbody>\n",
       "    <tr>\n",
       "      <th>0</th>\n",
       "      <td>1</td>\n",
       "      <td>1</td>\n",
       "      <td>2.99</td>\n",
       "    </tr>\n",
       "    <tr>\n",
       "      <th>1</th>\n",
       "      <td>1</td>\n",
       "      <td>1</td>\n",
       "      <td>0.99</td>\n",
       "    </tr>\n",
       "    <tr>\n",
       "      <th>2</th>\n",
       "      <td>1</td>\n",
       "      <td>1</td>\n",
       "      <td>5.99</td>\n",
       "    </tr>\n",
       "    <tr>\n",
       "      <th>3</th>\n",
       "      <td>1</td>\n",
       "      <td>1</td>\n",
       "      <td>0.99</td>\n",
       "    </tr>\n",
       "    <tr>\n",
       "      <th>4</th>\n",
       "      <td>1</td>\n",
       "      <td>1</td>\n",
       "      <td>9.99</td>\n",
       "    </tr>\n",
       "  </tbody>\n",
       "</table>\n",
       "</div>"
      ],
      "text/plain": [
       "   member_id  active  amount\n",
       "0          1       1    2.99\n",
       "1          1       1    0.99\n",
       "2          1       1    5.99\n",
       "3          1       1    0.99\n",
       "4          1       1    9.99"
      ]
     },
     "execution_count": 4,
     "metadata": {},
     "output_type": "execute_result"
    }
   ],
   "source": [
    "db_query = '''\n",
    "    SELECT c.customer_id, c.active, p.amount \n",
    "    FROM customer as c\n",
    "        INNER JOIN payment as p\n",
    "        ON c.customer_id = p.customer_id   \n",
    "'''\n",
    "\n",
    "df_members = pd.read_sql(db_query, connection)\n",
    "\n",
    "# df_members.rename({'customer_id': 'member_id'}, axis=1, inplace=True)\n",
    "df_members.rename(columns={'customer_id': 'member_id'}, inplace=True)\n",
    "\n",
    "df_members.head()"
   ]
  },
  {
   "cell_type": "code",
   "execution_count": 5,
   "metadata": {},
   "outputs": [
    {
     "data": {
      "text/plain": [
       "member_id    0\n",
       "active       0\n",
       "amount       0\n",
       "dtype: int64"
      ]
     },
     "execution_count": 5,
     "metadata": {},
     "output_type": "execute_result"
    }
   ],
   "source": [
    "# Check for missing values\n",
    "df_members.isna().sum()"
   ]
  },
  {
   "cell_type": "code",
   "execution_count": 6,
   "metadata": {},
   "outputs": [
    {
     "name": "stdout",
     "output_type": "stream",
     "text": [
      "<class 'pandas.core.series.Series'>\n",
      "Index: 2 entries, Inactive members to Active members\n",
      "Series name: revenue\n",
      "Non-Null Count  Dtype  \n",
      "--------------  -----  \n",
      "2 non-null      float64\n",
      "dtypes: float64(1)\n",
      "memory usage: 32.0+ bytes\n"
     ]
    }
   ],
   "source": [
    "def status_text(status):\n",
    "    '''Returns the status text of a status number'''\n",
    "    status_text = 'Active members' if (status==1) else 'Inactive members'\n",
    "    return status_text\n",
    "\n",
    "revenue_by_members = (\n",
    "    df_members\n",
    "    .groupby(by='active', as_index=True)\n",
    "    ['amount']\n",
    "    .sum()\n",
    "    .rename('revenue')    \n",
    ")\n",
    "\n",
    "revenue_by_members.index = revenue_by_members.index.map(status_text)\n",
    "\n",
    "revenue_by_members.info()\n"
   ]
  },
  {
   "cell_type": "code",
   "execution_count": 7,
   "metadata": {},
   "outputs": [
    {
     "data": {
      "text/plain": [
       "active\n",
       "Inactive members     1659.96\n",
       "Active members      65746.60\n",
       "Name: revenue, dtype: float64"
      ]
     },
     "execution_count": 7,
     "metadata": {},
     "output_type": "execute_result"
    }
   ],
   "source": [
    "revenue_by_members"
   ]
  },
  {
   "cell_type": "code",
   "execution_count": 38,
   "metadata": {},
   "outputs": [
    {
     "data": {
      "image/png": "[encoded data removed]",
      "text/plain": [
       "<Figure size 500x400 with 1 Axes>"
      ]
     },
     "metadata": {},
     "output_type": "display_data"
    }
   ],
   "source": [
    "# Visualization\n",
    "import matplotlib.pyplot as plt\n",
    "import seaborn as sns\n",
    "\n",
    "# Plot bar chart\n",
    "# Create a figure and axes using Matplotlib\n",
    "fig, ax = plt.subplots(figsize=(5, 4))\n",
    "\n",
    "# Values needed for plot\n",
    "# X axis\n",
    "x = revenue_by_members.index\n",
    "# Y axis\n",
    "y = revenue_by_members.values\n",
    "\n",
    "sns.barplot(x=x, y=y, ax=ax, errorbar=None, width=0.4, hue=x) \n",
    "\n",
    "ax.set(\n",
    "    xlabel = '',\n",
    "    ylabel = 'Revenue',\n",
    "    title  = 'Revenue from active and inactive members'\n",
    ")\n",
    "\n",
    "# Add data labels to bars\n",
    "for x,y in zip(x, y):\n",
    "    label = f'{y:,.2f}'\n",
    "    p = y//2\n",
    "    plt.text(x, p, label, ha='center')\n",
    "\n",
    "# Display revenue members \n",
    "plt.show()\n"
   ]
  },
  {
   "cell_type": "code",
   "execution_count": 9,
   "metadata": {},
   "outputs": [
    {
     "name": "stdout",
     "output_type": "stream",
     "text": [
      "The revenue from active and inactive members are 65,746.60 and 1,659.96 respectively.\n"
     ]
    }
   ],
   "source": [
    "print(f\"The revenue from active and inactive members are \\\n",
    "{revenue_by_members[  'Active members']:,.2f} and \\\n",
    "{revenue_by_members['Inactive members']:,.2f} respectively.\"\n",
    ")"
   ]
  },
  {
   "cell_type": "markdown",
   "metadata": {},
   "source": [
    "### QUESTION 2: We have 2 staff members, Mike and Jon. Determine the staff member that contributed the most to our revenue in the month of August in 2005. Visualize their percentage contribution as a pie chart."
   ]
  },
  {
   "cell_type": "code",
   "execution_count": 10,
   "metadata": {},
   "outputs": [
    {
     "data": {
      "text/html": [
       "<div>\n",
       "<style scoped>\n",
       "    .dataframe tbody tr th:only-of-type {\n",
       "        vertical-align: middle;\n",
       "    }\n",
       "\n",
       "    .dataframe tbody tr th {\n",
       "        vertical-align: top;\n",
       "    }\n",
       "\n",
       "    .dataframe thead th {\n",
       "        text-align: right;\n",
       "    }\n",
       "</style>\n",
       "<table border=\"1\" class=\"dataframe\">\n",
       "  <thead>\n",
       "    <tr style=\"text-align: right;\">\n",
       "      <th></th>\n",
       "      <th>staff_id</th>\n",
       "      <th>first_name</th>\n",
       "      <th>last_name</th>\n",
       "      <th>email</th>\n",
       "      <th>amount</th>\n",
       "      <th>payment_date</th>\n",
       "    </tr>\n",
       "  </thead>\n",
       "  <tbody>\n",
       "    <tr>\n",
       "      <th>0</th>\n",
       "      <td>1</td>\n",
       "      <td>Mike</td>\n",
       "      <td>Hillyer</td>\n",
       "      <td>Mike.Hillyer@sakilastaff.com</td>\n",
       "      <td>0.99</td>\n",
       "      <td>2005-08-02 18:01:38</td>\n",
       "    </tr>\n",
       "    <tr>\n",
       "      <th>1</th>\n",
       "      <td>1</td>\n",
       "      <td>Mike</td>\n",
       "      <td>Hillyer</td>\n",
       "      <td>Mike.Hillyer@sakilastaff.com</td>\n",
       "      <td>0.99</td>\n",
       "      <td>2005-08-18 03:57:29</td>\n",
       "    </tr>\n",
       "    <tr>\n",
       "      <th>2</th>\n",
       "      <td>1</td>\n",
       "      <td>Mike</td>\n",
       "      <td>Hillyer</td>\n",
       "      <td>Mike.Hillyer@sakilastaff.com</td>\n",
       "      <td>0.99</td>\n",
       "      <td>2005-08-21 23:33:57</td>\n",
       "    </tr>\n",
       "    <tr>\n",
       "      <th>3</th>\n",
       "      <td>1</td>\n",
       "      <td>Mike</td>\n",
       "      <td>Hillyer</td>\n",
       "      <td>Mike.Hillyer@sakilastaff.com</td>\n",
       "      <td>1.99</td>\n",
       "      <td>2005-08-22 01:27:57</td>\n",
       "    </tr>\n",
       "    <tr>\n",
       "      <th>4</th>\n",
       "      <td>1</td>\n",
       "      <td>Mike</td>\n",
       "      <td>Hillyer</td>\n",
       "      <td>Mike.Hillyer@sakilastaff.com</td>\n",
       "      <td>5.99</td>\n",
       "      <td>2005-08-22 20:03:46</td>\n",
       "    </tr>\n",
       "  </tbody>\n",
       "</table>\n",
       "</div>"
      ],
      "text/plain": [
       "   staff_id first_name last_name                         email  amount  \\\n",
       "0         1       Mike   Hillyer  Mike.Hillyer@sakilastaff.com    0.99   \n",
       "1         1       Mike   Hillyer  Mike.Hillyer@sakilastaff.com    0.99   \n",
       "2         1       Mike   Hillyer  Mike.Hillyer@sakilastaff.com    0.99   \n",
       "3         1       Mike   Hillyer  Mike.Hillyer@sakilastaff.com    1.99   \n",
       "4         1       Mike   Hillyer  Mike.Hillyer@sakilastaff.com    5.99   \n",
       "\n",
       "         payment_date  \n",
       "0 2005-08-02 18:01:38  \n",
       "1 2005-08-18 03:57:29  \n",
       "2 2005-08-21 23:33:57  \n",
       "3 2005-08-22 01:27:57  \n",
       "4 2005-08-22 20:03:46  "
      ]
     },
     "execution_count": 10,
     "metadata": {},
     "output_type": "execute_result"
    }
   ],
   "source": [
    "db_query   = '''\n",
    "    SELECT s.staff_id, s.first_name, s.last_name, s.email, p.amount, p.payment_date \n",
    "    FROM staff as s\n",
    "        INNER JOIN payment as p\n",
    "        ON s.staff_id = p.staff_id\n",
    "        WHERE (month(p.payment_date) = 8 AND year(p.payment_date) = 2005)    \n",
    "'''\n",
    "\n",
    "df_staff = pd.read_sql(db_query, connection)\n",
    "\n",
    "df_staff.head()"
   ]
  },
  {
   "cell_type": "code",
   "execution_count": 11,
   "metadata": {},
   "outputs": [
    {
     "name": "stdout",
     "output_type": "stream",
     "text": [
      "<class 'pandas.core.frame.DataFrame'>\n",
      "RangeIndex: 5686 entries, 0 to 5685\n",
      "Data columns (total 6 columns):\n",
      " #   Column        Non-Null Count  Dtype         \n",
      "---  ------        --------------  -----         \n",
      " 0   staff_id      5686 non-null   int64         \n",
      " 1   first_name    5686 non-null   object        \n",
      " 2   last_name     5686 non-null   object        \n",
      " 3   email         5686 non-null   object        \n",
      " 4   amount        5686 non-null   float64       \n",
      " 5   payment_date  5686 non-null   datetime64[ns]\n",
      "dtypes: datetime64[ns](1), float64(1), int64(1), object(3)\n",
      "memory usage: 266.7+ KB\n"
     ]
    }
   ],
   "source": [
    "df_staff.info()"
   ]
  },
  {
   "cell_type": "code",
   "execution_count": 12,
   "metadata": {},
   "outputs": [
    {
     "data": {
      "text/plain": [
       "staff_id        0\n",
       "first_name      0\n",
       "last_name       0\n",
       "email           0\n",
       "amount          0\n",
       "payment_date    0\n",
       "dtype: int64"
      ]
     },
     "execution_count": 12,
     "metadata": {},
     "output_type": "execute_result"
    }
   ],
   "source": [
    "# Check for missing values\n",
    "df_staff.isna().sum()"
   ]
  },
  {
   "cell_type": "code",
   "execution_count": 13,
   "metadata": {},
   "outputs": [
    {
     "data": {
      "text/html": [
       "<div>\n",
       "<style scoped>\n",
       "    .dataframe tbody tr th:only-of-type {\n",
       "        vertical-align: middle;\n",
       "    }\n",
       "\n",
       "    .dataframe tbody tr th {\n",
       "        vertical-align: top;\n",
       "    }\n",
       "\n",
       "    .dataframe thead th {\n",
       "        text-align: right;\n",
       "    }\n",
       "</style>\n",
       "<table border=\"1\" class=\"dataframe\">\n",
       "  <thead>\n",
       "    <tr style=\"text-align: right;\">\n",
       "      <th></th>\n",
       "      <th>first_name</th>\n",
       "      <th>last_name</th>\n",
       "      <th>email</th>\n",
       "      <th>revenue</th>\n",
       "    </tr>\n",
       "    <tr>\n",
       "      <th>staff_id</th>\n",
       "      <th></th>\n",
       "      <th></th>\n",
       "      <th></th>\n",
       "      <th></th>\n",
       "    </tr>\n",
       "  </thead>\n",
       "  <tbody>\n",
       "    <tr>\n",
       "      <th>1</th>\n",
       "      <td>Mike</td>\n",
       "      <td>Hillyer</td>\n",
       "      <td>Mike.Hillyer@sakilastaff.com</td>\n",
       "      <td>11853.65</td>\n",
       "    </tr>\n",
       "    <tr>\n",
       "      <th>2</th>\n",
       "      <td>Jon</td>\n",
       "      <td>Stephens</td>\n",
       "      <td>Jon.Stephens@sakilastaff.com</td>\n",
       "      <td>12216.49</td>\n",
       "    </tr>\n",
       "  </tbody>\n",
       "</table>\n",
       "</div>"
      ],
      "text/plain": [
       "         first_name last_name                         email   revenue\n",
       "staff_id                                                             \n",
       "1              Mike   Hillyer  Mike.Hillyer@sakilastaff.com  11853.65\n",
       "2               Jon  Stephens  Jon.Stephens@sakilastaff.com  12216.49"
      ]
     },
     "execution_count": 13,
     "metadata": {},
     "output_type": "execute_result"
    }
   ],
   "source": [
    "revenue_by_staff = (\n",
    "    df_staff\n",
    "    .groupby(by=['staff_id','first_name', 'last_name', 'email'])\n",
    "    .agg(revenue=pd.NamedAgg('amount', 'sum'))\n",
    "    .reset_index()\n",
    "    .set_index('staff_id')\n",
    ")\n",
    "\n",
    "revenue_by_staff"
   ]
  },
  {
   "cell_type": "markdown",
   "metadata": {},
   "source": [
    "*It can be observed that Jon Stephens generated the most revenue at 12,216.49, although Mike Hillyer came close at 11,853.65*"
   ]
  },
  {
   "cell_type": "code",
   "execution_count": 14,
   "metadata": {},
   "outputs": [
    {
     "data": {
      "image/png": "[encoded data removed]",
      "text/plain": [
       "<Figure size 640x480 with 1 Axes>"
      ]
     },
     "metadata": {},
     "output_type": "display_data"
    }
   ],
   "source": [
    "# Visualisation\n",
    "import matplotlib.pyplot as plt\n",
    "\n",
    "plt.pie(\n",
    "        x       = revenue_by_staff['revenue'],        \n",
    "        labels  = revenue_by_staff['first_name'], \n",
    "        autopct = '%.1f%%'\n",
    ")\n",
    "\n",
    "plt.legend(title='Staff')\n",
    "\n",
    "plt.title(\"Percentage revenue contribution by staff\")\n",
    "\n",
    "plt.show()\n"
   ]
  },
  {
   "cell_type": "markdown",
   "metadata": {},
   "source": [
    "*It is evident that the staff member- Jon contributed the most revenue 50.8% in the month of August 2005*"
   ]
  },
  {
   "cell_type": "markdown",
   "metadata": {},
   "source": [
    "### Question 3: Create a simple line chart showing the monthly rental count of the store. Do you notice any patterns or trends?<br>\n"
   ]
  },
  {
   "cell_type": "code",
   "execution_count": 15,
   "metadata": {},
   "outputs": [
    {
     "data": {
      "text/html": [
       "<div>\n",
       "<style scoped>\n",
       "    .dataframe tbody tr th:only-of-type {\n",
       "        vertical-align: middle;\n",
       "    }\n",
       "\n",
       "    .dataframe tbody tr th {\n",
       "        vertical-align: top;\n",
       "    }\n",
       "\n",
       "    .dataframe thead th {\n",
       "        text-align: right;\n",
       "    }\n",
       "</style>\n",
       "<table border=\"1\" class=\"dataframe\">\n",
       "  <thead>\n",
       "    <tr style=\"text-align: right;\">\n",
       "      <th></th>\n",
       "      <th>store_id</th>\n",
       "      <th>rental_id</th>\n",
       "      <th>revenue</th>\n",
       "      <th>rental_date</th>\n",
       "    </tr>\n",
       "  </thead>\n",
       "  <tbody>\n",
       "    <tr>\n",
       "      <th>0</th>\n",
       "      <td>1</td>\n",
       "      <td>4863</td>\n",
       "      <td>0.99</td>\n",
       "      <td>2005-07-08 19:03:15</td>\n",
       "    </tr>\n",
       "    <tr>\n",
       "      <th>1</th>\n",
       "      <td>1</td>\n",
       "      <td>11433</td>\n",
       "      <td>3.99</td>\n",
       "      <td>2005-08-02 20:13:10</td>\n",
       "    </tr>\n",
       "    <tr>\n",
       "      <th>2</th>\n",
       "      <td>1</td>\n",
       "      <td>14714</td>\n",
       "      <td>3.99</td>\n",
       "      <td>2005-08-21 21:27:43</td>\n",
       "    </tr>\n",
       "    <tr>\n",
       "      <th>3</th>\n",
       "      <td>1</td>\n",
       "      <td>972</td>\n",
       "      <td>1.99</td>\n",
       "      <td>2005-05-30 20:21:07</td>\n",
       "    </tr>\n",
       "    <tr>\n",
       "      <th>4</th>\n",
       "      <td>1</td>\n",
       "      <td>2117</td>\n",
       "      <td>0.99</td>\n",
       "      <td>2005-06-17 20:24:00</td>\n",
       "    </tr>\n",
       "  </tbody>\n",
       "</table>\n",
       "</div>"
      ],
      "text/plain": [
       "  store_id  rental_id  revenue         rental_date\n",
       "0        1       4863     0.99 2005-07-08 19:03:15\n",
       "1        1      11433     3.99 2005-08-02 20:13:10\n",
       "2        1      14714     3.99 2005-08-21 21:27:43\n",
       "3        1        972     1.99 2005-05-30 20:21:07\n",
       "4        1       2117     0.99 2005-06-17 20:24:00"
      ]
     },
     "execution_count": 15,
     "metadata": {},
     "output_type": "execute_result"
    }
   ],
   "source": [
    "db_query = '''\n",
    "    SELECT i.store_id, p.rental_id, p.amount, r.rental_date \n",
    "    FROM rental as r\n",
    "        INNER JOIN inventory as i\n",
    "        ON r.inventory_id = i.inventory_id\n",
    "        INNER JOIN payment as p\n",
    "        ON r.rental_id = p.rental_id    \n",
    "'''\n",
    "\n",
    "df_rental_store = pd.read_sql(db_query, connection)\n",
    "\n",
    "# Rename column amount to revenue\n",
    "df_rental_store.rename(columns={'amount': 'revenue'}, inplace=True)\n",
    "\n",
    "# Convert the store_id column to categorical type\n",
    "df_rental_store['store_id'] = pd.Categorical(df_rental_store['store_id'])\n",
    "\n",
    "df_rental_store.head()"
   ]
  },
  {
   "cell_type": "code",
   "execution_count": 16,
   "metadata": {},
   "outputs": [
    {
     "name": "stdout",
     "output_type": "stream",
     "text": [
      "<class 'pandas.core.frame.DataFrame'>\n",
      "RangeIndex: 16044 entries, 0 to 16043\n",
      "Data columns (total 4 columns):\n",
      " #   Column       Non-Null Count  Dtype         \n",
      "---  ------       --------------  -----         \n",
      " 0   store_id     16044 non-null  category      \n",
      " 1   rental_id    16044 non-null  int64         \n",
      " 2   revenue      16044 non-null  float64       \n",
      " 3   rental_date  16044 non-null  datetime64[ns]\n",
      "dtypes: category(1), datetime64[ns](1), float64(1), int64(1)\n",
      "memory usage: 391.9 KB\n"
     ]
    }
   ],
   "source": [
    "df_rental_store.info()"
   ]
  },
  {
   "cell_type": "code",
   "execution_count": 17,
   "metadata": {},
   "outputs": [
    {
     "data": {
      "text/plain": [
       "store_id       0\n",
       "rental_id      0\n",
       "revenue        0\n",
       "rental_date    0\n",
       "dtype: int64"
      ]
     },
     "execution_count": 17,
     "metadata": {},
     "output_type": "execute_result"
    }
   ],
   "source": [
    "# Check for missing values\n",
    "df_rental_store.isna().sum()"
   ]
  },
  {
   "cell_type": "code",
   "execution_count": 18,
   "metadata": {},
   "outputs": [
    {
     "data": {
      "text/html": [
       "<div>\n",
       "<style scoped>\n",
       "    .dataframe tbody tr th:only-of-type {\n",
       "        vertical-align: middle;\n",
       "    }\n",
       "\n",
       "    .dataframe tbody tr th {\n",
       "        vertical-align: top;\n",
       "    }\n",
       "\n",
       "    .dataframe thead th {\n",
       "        text-align: right;\n",
       "    }\n",
       "</style>\n",
       "<table border=\"1\" class=\"dataframe\">\n",
       "  <thead>\n",
       "    <tr style=\"text-align: right;\">\n",
       "      <th></th>\n",
       "      <th>rental_id</th>\n",
       "      <th>revenue</th>\n",
       "      <th>rental_date</th>\n",
       "    </tr>\n",
       "  </thead>\n",
       "  <tbody>\n",
       "    <tr>\n",
       "      <th>count</th>\n",
       "      <td>16044.000000</td>\n",
       "      <td>16044.000000</td>\n",
       "      <td>16044</td>\n",
       "    </tr>\n",
       "    <tr>\n",
       "      <th>mean</th>\n",
       "      <td>8025.371478</td>\n",
       "      <td>4.201356</td>\n",
       "      <td>2005-07-23 08:12:53.217526912</td>\n",
       "    </tr>\n",
       "    <tr>\n",
       "      <th>min</th>\n",
       "      <td>1.000000</td>\n",
       "      <td>0.000000</td>\n",
       "      <td>2005-05-24 22:53:30</td>\n",
       "    </tr>\n",
       "    <tr>\n",
       "      <th>25%</th>\n",
       "      <td>4013.750000</td>\n",
       "      <td>2.990000</td>\n",
       "      <td>2005-07-07 00:58:40.500000</td>\n",
       "    </tr>\n",
       "    <tr>\n",
       "      <th>50%</th>\n",
       "      <td>8025.500000</td>\n",
       "      <td>3.990000</td>\n",
       "      <td>2005-07-28 16:04:32.500000</td>\n",
       "    </tr>\n",
       "    <tr>\n",
       "      <th>75%</th>\n",
       "      <td>12037.250000</td>\n",
       "      <td>4.990000</td>\n",
       "      <td>2005-08-17 21:16:23</td>\n",
       "    </tr>\n",
       "    <tr>\n",
       "      <th>max</th>\n",
       "      <td>16049.000000</td>\n",
       "      <td>11.990000</td>\n",
       "      <td>2006-02-14 15:16:03</td>\n",
       "    </tr>\n",
       "    <tr>\n",
       "      <th>std</th>\n",
       "      <td>4632.777249</td>\n",
       "      <td>2.362961</td>\n",
       "      <td>NaN</td>\n",
       "    </tr>\n",
       "  </tbody>\n",
       "</table>\n",
       "</div>"
      ],
      "text/plain": [
       "          rental_id       revenue                    rental_date\n",
       "count  16044.000000  16044.000000                          16044\n",
       "mean    8025.371478      4.201356  2005-07-23 08:12:53.217526912\n",
       "min        1.000000      0.000000            2005-05-24 22:53:30\n",
       "25%     4013.750000      2.990000     2005-07-07 00:58:40.500000\n",
       "50%     8025.500000      3.990000     2005-07-28 16:04:32.500000\n",
       "75%    12037.250000      4.990000            2005-08-17 21:16:23\n",
       "max    16049.000000     11.990000            2006-02-14 15:16:03\n",
       "std     4632.777249      2.362961                            NaN"
      ]
     },
     "execution_count": 18,
     "metadata": {},
     "output_type": "execute_result"
    }
   ],
   "source": [
    "df_rental_store.describe()"
   ]
  },
  {
   "cell_type": "code",
   "execution_count": 19,
   "metadata": {},
   "outputs": [],
   "source": [
    "# Quick plot\n",
    "# (\n",
    "#     df_rental_store\n",
    "#     .set_index('rental_date')\n",
    "#     .resample('M')\n",
    "#     .size()\n",
    "#     .plot()\n",
    "# )"
   ]
  },
  {
   "cell_type": "code",
   "execution_count": 20,
   "metadata": {},
   "outputs": [
    {
     "name": "stdout",
     "output_type": "stream",
     "text": [
      "<class 'pandas.core.series.Series'>\n",
      "DatetimeIndex: 10 entries, 2005-05-01 to 2006-02-01\n",
      "Freq: MS\n",
      "Series name: rental_count\n",
      "Non-Null Count  Dtype\n",
      "--------------  -----\n",
      "10 non-null     int64\n",
      "dtypes: int64(1)\n",
      "memory usage: 160.0 bytes\n"
     ]
    }
   ],
   "source": [
    "# Monthly rental df\n",
    "monthly_rental = (\n",
    "    df_rental_store\n",
    "    .set_index('rental_date')\n",
    "    .sort_index(ascending=True)\n",
    "    .resample('MS')\n",
    "    .size()\n",
    "    .rename('rental_count')\n",
    ")\n",
    "\n",
    "monthly_rental.info()"
   ]
  },
  {
   "cell_type": "code",
   "execution_count": 21,
   "metadata": {},
   "outputs": [
    {
     "data": {
      "text/plain": [
       "rental_date\n",
       "2005-05-01    1156\n",
       "2005-06-01    2311\n",
       "2005-07-01    6709\n",
       "2005-08-01    5686\n",
       "2005-09-01       0\n",
       "2005-10-01       0\n",
       "2005-11-01       0\n",
       "2005-12-01       0\n",
       "2006-01-01       0\n",
       "2006-02-01     182\n",
       "Freq: MS, Name: rental_count, dtype: int64"
      ]
     },
     "execution_count": 21,
     "metadata": {},
     "output_type": "execute_result"
    }
   ],
   "source": [
    "# Check monthly_rental\n",
    "monthly_rental"
   ]
  },
  {
   "cell_type": "code",
   "execution_count": 22,
   "metadata": {},
   "outputs": [
    {
     "data": {
      "image/png": "[encoded data removed]",
      "text/plain": [
       "<Figure size 900x600 with 1 Axes>"
      ]
     },
     "metadata": {},
     "output_type": "display_data"
    }
   ],
   "source": [
    "# Visualization \n",
    "import matplotlib.pyplot as plt\n",
    "import matplotlib.dates as mdates\n",
    "import seaborn as sns\n",
    "\n",
    "# Plot line chart with proper month date axis\n",
    "plt.figure(figsize=(9, 6))\n",
    "\n",
    "locator   = mdates.MonthLocator()\n",
    "formatter = mdates.ConciseDateFormatter(locator)\n",
    "\n",
    "sns.lineplot(x=monthly_rental.index, y=monthly_rental.values, marker='o')\n",
    "\n",
    "plt.gca().xaxis.set_major_locator(locator)\n",
    "plt.gca().xaxis.set_major_formatter(formatter)\n",
    "plt.xlabel('')\n",
    "plt.ylabel('Rental count')\n",
    "plt.title('Monthly rental count of stores')\n",
    "\n",
    "# Rotate x-axis labels for better visibility\n",
    "plt.xticks(rotation=45, ha='center')\n",
    "\n",
    "# Display monthly_rental count\n",
    "plt.show()"
   ]
  },
  {
   "cell_type": "markdown",
   "metadata": {},
   "source": [
    "## Trend\n",
    "- May 2005: The combined rental count is **1156**, indicating a moderate level of rental activity.\n",
    "- June 2005: There is an increase in the combined rental count to **2311**, suggesting a higher demand for rentals in this month compared to May 2005.\n",
    "- July 2005: The combined rental count experiences a significant jump to **6709**, indicating a substantial increase in rental activity.  This could be influenced by factors such as seasonal trends, promotions, or increased customer demand.\n",
    "- August 2005: The rental count decreases to **5686**, but it remains relatively high compared to the previous months.\n",
    "- September 2005 to January 2006: There are no recorded rentals during this period for both stores, as the combined rental count is **0**.This suggests a period of inactivity or zero rental transactions.\n",
    "- February 2006: There is a slight increase in the combined rental count to **182**, indicating a resumption of rental activity\n",
    "\n",
    "#### Overall:\n",
    "- There was variation in rental counts over the months, with peaks observed in July 2005.\n",
    "- The period from September 2005 to January 2006 represents a period of inactivity with no recorded rentals.\n",
    "- February 2006 shows a moderate increase in rental activity compared to the inactive months."
   ]
  },
  {
   "cell_type": "code",
   "execution_count": 23,
   "metadata": {},
   "outputs": [
    {
     "data": {
      "image/png": "[encoded data removed]",
      "text/plain": [
       "<Figure size 900x600 with 1 Axes>"
      ]
     },
     "metadata": {},
     "output_type": "display_data"
    }
   ],
   "source": [
    "# Visualization \n",
    "import matplotlib.pyplot as plt\n",
    "import matplotlib.dates as mdates\n",
    "import seaborn as sns\n",
    "\n",
    "monthly_rental_bystore = (\n",
    "   df_rental_store\n",
    "   # Set index as rental date\n",
    "   .set_index('rental_date')\n",
    "   # Sort index in ascending order\n",
    "   .sort_index(ascending=True)\n",
    "   # Group by store_id\n",
    "   .groupby(by='store_id', observed=False)\n",
    "   # Resample by Month using Month Start MS frequency\n",
    "   .resample('MS')\n",
    "   # Count the observations\n",
    "   .size()\n",
    "   # Name the series\n",
    "   .rename('rental_count')\n",
    ")\n",
    "\n",
    "# Plot line chart with proper month date axis\n",
    "plt.figure(figsize=(9, 6))\n",
    "\n",
    "# Values needed for plot\n",
    "# X axis\n",
    "x = monthly_rental_bystore.index.get_level_values('rental_date')\n",
    "# Y axis\n",
    "y=monthly_rental_bystore.values\n",
    "# Hue\n",
    "h=monthly_rental_bystore.index.get_level_values('store_id')\n",
    "# Style\n",
    "s=monthly_rental_bystore.index.get_level_values('store_id')  \n",
    "# Markers\n",
    "m = ['o', 'D']   \n",
    "      \n",
    "sns.lineplot(x = x, y = y, hue = h, style = s, markers = m)\n",
    "\n",
    "locator   = mdates.AutoDateLocator()\n",
    "formatter = mdates.ConciseDateFormatter(locator)\n",
    "plt.gca().xaxis.set_major_locator(locator)\n",
    "plt.gca().xaxis.set_major_formatter(formatter)\n",
    "\n",
    "plt.xlabel('')\n",
    "plt.ylabel('Rental count')\n",
    "plt.legend(title='Store')\n",
    "plt.title('Monthly rental count by store')\n",
    "\n",
    "# Rotate x-axis labels for better visibility\n",
    "plt.xticks(rotation=45, ha='center')\n",
    "\n",
    "# Display monthly_rental_bystore count\n",
    "plt.show()"
   ]
  },
  {
   "cell_type": "markdown",
   "metadata": {},
   "source": [
    "**It is evident that:**<br>\n",
    "#### Store 1: <br>\n",
    "- In May 2005, there were **575** rentals.<br>\n",
    "- The rental count increased in June 2005 to **1121**.<br>\n",
    "- A steep increase is observed in July 2005, reaching peak **3334** rentals.<br>\n",
    "- The rental count decreases in August 2005 to **2801**.<br>\n",
    "- From September 2005 to January 2006, there are no recorded rentals (rental count is 0).<br>\n",
    "- In February 2006, there is a slight increase with **92** rentals.<br>\n",
    "\n",
    "#### Store 2: <br>\n",
    "- In similar trend to Store 1, Store 2 shows an increase in rental count from May 2005 **(581 rentals)** to June 2005 **(1190 rentals)**.<br>\n",
    "- July 2005 saw a substantial increase in rental count, reaching **3375**.<br>\n",
    "- The rental count decreases in August 2005 to **2885**.<br>\n",
    "- Similar to Store 1, there are no recorded rentals from September 2005 to January 2006.<br>\n",
    "- In February 2006, there is a slight increase with **90** rentals.<br>\n",
    "\n",
    "#### Overall:\n",
    "- Both stores had increases in rental counts in June and July, with peak values observed in July 2005.\n",
    "- There is a period of inactivity with no recorded rentals from September 2005 to January 2006 for both stores.\n",
    "- Both stores show a similar pattern of rental counts over time, with increases, decreases, and periods of inactivity."
   ]
  },
  {
   "cell_type": "code",
   "execution_count": 24,
   "metadata": {},
   "outputs": [
    {
     "data": {
      "text/plain": [
       "store_id  rental_date\n",
       "1         2005-05-01      575\n",
       "          2005-06-01     1121\n",
       "          2005-07-01     3334\n",
       "          2005-08-01     2801\n",
       "          2005-09-01        0\n",
       "          2005-10-01        0\n",
       "          2005-11-01        0\n",
       "          2005-12-01        0\n",
       "          2006-01-01        0\n",
       "          2006-02-01       92\n",
       "2         2005-05-01      581\n",
       "          2005-06-01     1190\n",
       "          2005-07-01     3375\n",
       "          2005-08-01     2885\n",
       "          2005-09-01        0\n",
       "          2005-10-01        0\n",
       "          2005-11-01        0\n",
       "          2005-12-01        0\n",
       "          2006-01-01        0\n",
       "          2006-02-01       90\n",
       "Name: rental_count, dtype: int64"
      ]
     },
     "execution_count": 24,
     "metadata": {},
     "output_type": "execute_result"
    }
   ],
   "source": [
    "monthly_rental_bystore"
   ]
  },
  {
   "cell_type": "markdown",
   "metadata": {},
   "source": [
    "### Question 4: Create a basic bar chart to show the monthly revenue for the rental store."
   ]
  },
  {
   "cell_type": "code",
   "execution_count": 25,
   "metadata": {},
   "outputs": [
    {
     "name": "stdout",
     "output_type": "stream",
     "text": [
      "<class 'pandas.core.series.Series'>\n",
      "DatetimeIndex: 10 entries, 2005-05-01 to 2006-02-01\n",
      "Freq: MS\n",
      "Series name: revenue\n",
      "Non-Null Count  Dtype  \n",
      "--------------  -----  \n",
      "10 non-null     float64\n",
      "dtypes: float64(1)\n",
      "memory usage: 160.0 bytes\n"
     ]
    }
   ],
   "source": [
    "# Monthly revenue with considering separate stores\n",
    "monthly_revenue = (\n",
    "    df_rental_store\n",
    "    .set_index('rental_date')\n",
    "    .sort_index(ascending=True)\n",
    "    .resample('MS')\n",
    "    ['revenue']\n",
    "    .sum()                  \n",
    ")\n",
    "\n",
    "monthly_revenue.info()\n"
   ]
  },
  {
   "cell_type": "code",
   "execution_count": 26,
   "metadata": {},
   "outputs": [
    {
     "data": {
      "text/plain": [
       "rental_date\n",
       "2005-05-01     4823.44\n",
       "2005-06-01     9629.89\n",
       "2005-07-01    28368.91\n",
       "2005-08-01    24070.14\n",
       "2005-09-01        0.00\n",
       "2005-10-01        0.00\n",
       "2005-11-01        0.00\n",
       "2005-12-01        0.00\n",
       "2006-01-01        0.00\n",
       "2006-02-01      514.18\n",
       "Freq: MS, Name: revenue, dtype: float64"
      ]
     },
     "execution_count": 26,
     "metadata": {},
     "output_type": "execute_result"
    }
   ],
   "source": [
    "monthly_revenue"
   ]
  },
  {
   "cell_type": "code",
   "execution_count": 27,
   "metadata": {},
   "outputs": [],
   "source": [
    "# Ensure dates are in the correct format\n",
    "from datetime import datetime\n",
    "assert all(isinstance(date, datetime) for date in monthly_revenue.index), \"Dates should be datetime objects\""
   ]
  },
  {
   "cell_type": "code",
   "execution_count": 28,
   "metadata": {},
   "outputs": [],
   "source": [
    "# Convert rental date to month period\n",
    "monthly_revenue.index = monthly_revenue.index.to_period('M')"
   ]
  },
  {
   "cell_type": "code",
   "execution_count": 29,
   "metadata": {},
   "outputs": [
    {
     "data": {
      "text/plain": [
       "rental_date\n",
       "2005-05     4823.44\n",
       "2005-06     9629.89\n",
       "2005-07    28368.91\n",
       "2005-08    24070.14\n",
       "2005-09        0.00\n",
       "2005-10        0.00\n",
       "2005-11        0.00\n",
       "2005-12        0.00\n",
       "2006-01        0.00\n",
       "2006-02      514.18\n",
       "Freq: M, Name: revenue, dtype: float64"
      ]
     },
     "execution_count": 29,
     "metadata": {},
     "output_type": "execute_result"
    }
   ],
   "source": [
    "monthly_revenue"
   ]
  },
  {
   "cell_type": "code",
   "execution_count": 30,
   "metadata": {},
   "outputs": [
    {
     "data": {
      "image/png": "[encoded data removed]",
      "text/plain": [
       "<Figure size 900x600 with 1 Axes>"
      ]
     },
     "metadata": {},
     "output_type": "display_data"
    }
   ],
   "source": [
    "# Visualization \n",
    "import matplotlib.pyplot as plt\n",
    "import seaborn as sns\n",
    "\n",
    "# Plot bar chart with proper month date axis\n",
    "# Create a figure and axes using Matplotlib\n",
    "fig, ax = plt.subplots(figsize=(9, 6))\n",
    "\n",
    "# Values need for plot\n",
    "x = monthly_revenue.index.astype(str)\n",
    "y = monthly_revenue.values\n",
    "\n",
    "sns.barplot(\n",
    "    x = x, \n",
    "    y = y, \n",
    "    ax = ax, \n",
    "    errorbar = None\n",
    ") \n",
    "\n",
    "ax.set(\n",
    "    xlabel = '',\n",
    "    ylabel = 'Revenue',\n",
    "    title  = 'Monthly rental revenue of stores'\n",
    ")\n",
    "\n",
    "# Add data labels to bars\n",
    "for x,y in zip(x, y):\n",
    "    label = f'{y:,.2f}' if (y!=0) else ''\n",
    "    p     = y//2\n",
    "    plt.text(x, p, label, ha='center')\n",
    "\n",
    "# Rotate x-axis labels for better visibility\n",
    "plt.xticks(rotation=45, ha='center')\n",
    "\n",
    "# Display monthly_rental revenue of store\n",
    "plt.show()"
   ]
  },
  {
   "cell_type": "markdown",
   "metadata": {},
   "source": [
    "# Summary\n",
    "- May 2005: **4,823.44** rental revenue.\n",
    "- June 2005: Significant increase to **9,629.89**.\n",
    "- July 2005: Peak revenue at **28,368.91**.\n",
    "- August 2005: Maintains strong revenue at **24,070.14**.\n",
    "- September 2005 to January 2006: No recorded revenue, indicating inactivity.\n",
    "- February 2006: Rental revenue resumes at **514.18**."
   ]
  },
  {
   "cell_type": "code",
   "execution_count": 31,
   "metadata": {},
   "outputs": [
    {
     "data": {
      "text/html": [
       "<div>\n",
       "<style scoped>\n",
       "    .dataframe tbody tr th:only-of-type {\n",
       "        vertical-align: middle;\n",
       "    }\n",
       "\n",
       "    .dataframe tbody tr th {\n",
       "        vertical-align: top;\n",
       "    }\n",
       "\n",
       "    .dataframe thead th {\n",
       "        text-align: right;\n",
       "    }\n",
       "</style>\n",
       "<table border=\"1\" class=\"dataframe\">\n",
       "  <thead>\n",
       "    <tr style=\"text-align: right;\">\n",
       "      <th></th>\n",
       "      <th>store_id</th>\n",
       "      <th>rental_id</th>\n",
       "      <th>revenue</th>\n",
       "      <th>rental_date</th>\n",
       "    </tr>\n",
       "  </thead>\n",
       "  <tbody>\n",
       "    <tr>\n",
       "      <th>0</th>\n",
       "      <td>1</td>\n",
       "      <td>4863</td>\n",
       "      <td>0.99</td>\n",
       "      <td>2005-07-08 19:03:15</td>\n",
       "    </tr>\n",
       "    <tr>\n",
       "      <th>1</th>\n",
       "      <td>1</td>\n",
       "      <td>11433</td>\n",
       "      <td>3.99</td>\n",
       "      <td>2005-08-02 20:13:10</td>\n",
       "    </tr>\n",
       "  </tbody>\n",
       "</table>\n",
       "</div>"
      ],
      "text/plain": [
       "  store_id  rental_id  revenue         rental_date\n",
       "0        1       4863     0.99 2005-07-08 19:03:15\n",
       "1        1      11433     3.99 2005-08-02 20:13:10"
      ]
     },
     "execution_count": 31,
     "metadata": {},
     "output_type": "execute_result"
    }
   ],
   "source": [
    "df_rental_store.head(2)"
   ]
  },
  {
   "cell_type": "code",
   "execution_count": 32,
   "metadata": {},
   "outputs": [
    {
     "name": "stdout",
     "output_type": "stream",
     "text": [
      "<class 'pandas.core.series.Series'>\n",
      "MultiIndex: 20 entries, (1, Timestamp('2005-05-01 00:00:00')) to (2, Timestamp('2006-02-01 00:00:00'))\n",
      "Series name: revenue\n",
      "Non-Null Count  Dtype  \n",
      "--------------  -----  \n",
      "20 non-null     float64\n",
      "dtypes: float64(1)\n",
      "memory usage: 903.0 bytes\n"
     ]
    }
   ],
   "source": [
    "# Monthly revenue considering separate stores\n",
    "monthly_revenue_stores = (\n",
    "    df_rental_store\n",
    "    .set_index('rental_date')\n",
    "    .sort_index(ascending=True)\n",
    "    .groupby(by='store_id', observed=False)\n",
    "    .resample('MS')\n",
    "    ['revenue']\n",
    "    .sum()                                     \n",
    ")\n",
    "\n",
    "monthly_revenue_stores.info()"
   ]
  },
  {
   "cell_type": "code",
   "execution_count": 33,
   "metadata": {},
   "outputs": [
    {
     "data": {
      "text/plain": [
       "store_id  rental_date\n",
       "1         2005-05-01      2459.25\n",
       "          2005-06-01      4734.79\n",
       "          2005-07-01     14308.66\n",
       "          2005-08-01     11933.99\n",
       "          2005-09-01         0.00\n",
       "          2005-10-01         0.00\n",
       "          2005-11-01         0.00\n",
       "          2005-12-01         0.00\n",
       "          2006-01-01         0.00\n",
       "          2006-02-01       243.10\n",
       "2         2005-05-01      2364.19\n",
       "          2005-06-01      4895.10\n",
       "          2005-07-01     14060.25\n",
       "          2005-08-01     12136.15\n",
       "          2005-09-01         0.00\n",
       "          2005-10-01         0.00\n",
       "          2005-11-01         0.00\n",
       "          2005-12-01         0.00\n",
       "          2006-01-01         0.00\n",
       "          2006-02-01       271.08\n",
       "Name: revenue, dtype: float64"
      ]
     },
     "execution_count": 33,
     "metadata": {},
     "output_type": "execute_result"
    }
   ],
   "source": [
    "monthly_revenue_stores"
   ]
  },
  {
   "cell_type": "code",
   "execution_count": 34,
   "metadata": {},
   "outputs": [],
   "source": [
    "# MultiIndex Series\n",
    "# Change 'rental_date' level to monthly period\n",
    "monthly_revenue_stores.index = (\n",
    "        monthly_revenue_stores.index.set_levels(\n",
    "                monthly_revenue_stores.index.levels[1].to_period('M'),\n",
    "                level=1\n",
    "        )\n",
    ")"
   ]
  },
  {
   "cell_type": "code",
   "execution_count": 35,
   "metadata": {},
   "outputs": [
    {
     "data": {
      "text/plain": [
       "store_id  rental_date\n",
       "1         2005-05        2459.25\n",
       "          2005-06        4734.79\n",
       "Name: revenue, dtype: float64"
      ]
     },
     "execution_count": 35,
     "metadata": {},
     "output_type": "execute_result"
    }
   ],
   "source": [
    "monthly_revenue_stores.head(2)"
   ]
  },
  {
   "cell_type": "code",
   "execution_count": 36,
   "metadata": {},
   "outputs": [
    {
     "data": {
      "image/png": "[encoded data removed]",
      "text/plain": [
       "<Figure size 900x600 with 1 Axes>"
      ]
     },
     "metadata": {},
     "output_type": "display_data"
    }
   ],
   "source": [
    "# Visualization \n",
    "import matplotlib.pyplot as plt\n",
    "import seaborn as sns\n",
    "\n",
    "# Plot bar chart with proper month date axis\n",
    "# Create a figure and axes using Matplotlib\n",
    "\n",
    "fig, ax = plt.subplots(figsize=(9, 6))\n",
    "\n",
    "# Values needed for plot\n",
    "# X axis\n",
    "x = monthly_revenue_stores.index.get_level_values('rental_date').astype(str)\n",
    "# Y axis\n",
    "y = monthly_revenue_stores.values\n",
    "# Hue\n",
    "h = monthly_revenue_stores.index.get_level_values('store_id')\n",
    "\n",
    "sns.barplot(x=x, y=y, hue=h, ax=ax) \n",
    "\n",
    "ax.set(\n",
    "    xlabel = '',\n",
    "    ylabel = 'Revenue',\n",
    "    title  = 'Monthly rental revenue by store'\n",
    "    )\n",
    "\n",
    "ax.legend(title='Store')  \n",
    "\n",
    "# Rotate x-axis labels for better visibility\n",
    "plt.xticks(rotation=45, ha='center') \n",
    "\n",
    "# Display monthly_rental revenue by store\n",
    "plt.show()"
   ]
  },
  {
   "cell_type": "markdown",
   "metadata": {},
   "source": [
    "# Summary\n",
    "#### Store 1:\n",
    "- May 2005: **2,459.25** rental revenue.\n",
    "- June 2005: Increases to **4,734.79**.\n",
    "- July 2005: Peaks at **14,308.66**.\n",
    "- August 2005: Maintains strong revenue at **11,933.99**.\n",
    "- September 2005 to January 2006: No recorded revenue, indicating inactivity.\n",
    "- February 2006: Revenue resumes at **243.10**.\n",
    "\n",
    "#### Store 2:\n",
    "- May 2005: **2,364.19** rental revenue.\n",
    "- June 2005: Increases to **4,895.10**.\n",
    "- July 2005: Peaks at **14,060.25**.\n",
    "- August 2005: Maintains strong revenue at **12,136.15**.\n",
    "- September 2005 to January 2006: No recorded revenue, indicating inactivity.\n",
    "- February 2006: Revenue resumes at **271.08**."
   ]
  },
  {
   "cell_type": "markdown",
   "metadata": {},
   "source": [
    "# Thank You"
   ]
  }
 ],
 "metadata": {
  "kernelspec": {
   "display_name": "azubi_rise",
   "language": "python",
   "name": "python3"
  },
  "language_info": {
   "codemirror_mode": {
    "name": "ipython",
    "version": 3
   },
   "file_extension": ".py",
   "mimetype": "text/x-python",
   "name": "python",
   "nbconvert_exporter": "python",
   "pygments_lexer": "ipython3",
   "version": "3.11.5"
  }
 },
 "nbformat": 4,
 "nbformat_minor": 2
}
